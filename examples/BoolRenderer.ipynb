{
 "cells": [
  {
   "cell_type": "markdown",
   "metadata": {},
   "source": [
    "# Bool Renderer\n",
    "\n",
    "ipydatagrid allows you to easily create custom renderers, here we use a `TextRenderer` widget for creating our own custom boolean renderers!"
   ]
  },
  {
   "cell_type": "code",
   "execution_count": null,
   "metadata": {},
   "outputs": [],
   "source": [
    "PaddyWidget2?"
   ]
  },
  {
   "cell_type": "code",
   "execution_count": null,
   "metadata": {},
   "outputs": [],
   "source": [
    "from paddy import PaddyWidget2\n",
    "w = PaddyWidget2()\n",
    "w"
   ]
  },
  {
   "cell_type": "code",
   "execution_count": null,
   "metadata": {},
   "outputs": [],
   "source": [
    "from ipydatagrid import PaddyWidget"
   ]
  },
  {
   "cell_type": "code",
   "execution_count": null,
   "metadata": {},
   "outputs": [],
   "source": [
    "import ipydatagrid"
   ]
  },
  {
   "cell_type": "code",
   "execution_count": null,
   "metadata": {},
   "outputs": [],
   "source": [
    "!ls /Users/paddy/opt/anaconda3/envs/ipydatagrid-paddy-install2/lib/python3.11/site-packages/ipydatagrid/nbextension/"
   ]
  },
  {
   "cell_type": "code",
   "execution_count": null,
   "metadata": {},
   "outputs": [],
   "source": [
    "ipydatagrid.__file__"
   ]
  },
  {
   "cell_type": "code",
   "execution_count": null,
   "metadata": {},
   "outputs": [],
   "source": [
    "w2 = PaddyWidget()\n",
    "w2"
   ]
  },
  {
   "cell_type": "code",
   "execution_count": null,
   "metadata": {},
   "outputs": [],
   "source": [
    "import pandas as pd\n",
    "import numpy as np\n",
    "import json\n",
    "\n",
    "from ipydatagrid import DataGrid, TextRenderer, Expr\n",
    "\n",
    "n = 50_000\n",
    "\n",
    "df = pd.DataFrame(\n",
    "    {\n",
    "        \"Value 1\": np.random.randn(n),\n",
    "        \"Value 2\": np.random.randn(n),\n",
    "        \"Value 3\": np.random.choice([True, False], n),\n",
    "        \"Value 4\": np.random.choice([True, False], n),\n",
    "    }\n",
    ")\n",
    "\n",
    "# This returns the unicode value for specific font-awesome icons,\n",
    "# check-out this link for more icons:\n",
    "# https://fontawesome.com/v4.7.0/cheatsheet/\n",
    "def bool_render_text1(cell):\n",
    "    if cell.value > 0:\n",
    "        return \"\\uf00c\"  # Check\n",
    "    else:\n",
    "        return \"\\uf00d\"  # Cross\n",
    "\n",
    "\n",
    "def bool_render_text2(cell):\n",
    "    if cell.value > 0:\n",
    "        return \"\\uf111\"  # Circle\n",
    "    else:\n",
    "        return \" \"\n",
    "\n",
    "\n",
    "def bool_render_text3(cell):\n",
    "    if cell.value:\n",
    "        return \"\\uf164\"  # Thumb up\n",
    "    else:\n",
    "        return \"\\uf165\"  # Thumb down\n",
    "\n",
    "\n",
    "def bool_render_text4(cell):\n",
    "    if cell.value:\n",
    "        return \"\\uf118\"  # Smile\n",
    "    else:\n",
    "        return \"\\uf119\"  # Frown\n",
    "\n",
    "\n",
    "def bool_render_color(cell):\n",
    "    if cell.value > 0:\n",
    "        return \"#2fbd34\"\n",
    "    else:\n",
    "        return \"#b82538\"\n",
    "\n",
    "\n",
    "common_args = {\n",
    "    \"font\": \"bold 14px fontawesome\",\n",
    "    \"text_color\": Expr(bool_render_color),\n",
    "    \"horizontal_alignment\": \"center\",\n",
    "}\n",
    "\n",
    "renderers = {\n",
    "    \"Value 1\": TextRenderer(text_value=Expr(bool_render_text1), **common_args),\n",
    "    \"Value 2\": TextRenderer(text_value=Expr(bool_render_text2), **common_args),\n",
    "    \"Value 3\": TextRenderer(text_value=Expr(bool_render_text3), **common_args),\n",
    "    \"Value 4\": TextRenderer(text_value=Expr(bool_render_text4), **common_args),\n",
    "}\n",
    "\n",
    "display(df)\n",
    "\n",
    "DataGrid(df, base_row_size=30, base_column_size=150, renderers=renderers)"
   ]
  },
  {
   "cell_type": "code",
   "execution_count": null,
   "metadata": {},
   "outputs": [],
   "source": []
  },
  {
   "cell_type": "code",
   "execution_count": null,
   "metadata": {},
   "outputs": [],
   "source": []
  },
  {
   "cell_type": "code",
   "execution_count": null,
   "metadata": {},
   "outputs": [],
   "source": []
  }
 ],
 "metadata": {
  "kernelspec": {
   "display_name": "Python 3 (ipykernel)",
   "language": "python",
   "name": "python3"
  },
  "language_info": {
   "codemirror_mode": {
    "name": "ipython",
    "version": 3
   },
   "file_extension": ".py",
   "mimetype": "text/x-python",
   "name": "python",
   "nbconvert_exporter": "python",
   "pygments_lexer": "ipython3",
   "version": "3.11.2"
  }
 },
 "nbformat": 4,
 "nbformat_minor": 4
}
